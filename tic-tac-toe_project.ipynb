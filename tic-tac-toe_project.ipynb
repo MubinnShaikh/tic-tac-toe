{
 "cells": [
  {
   "cell_type": "markdown",
   "metadata": {},
   "source": []
  },
  {
   "cell_type": "code",
   "execution_count": 37,
   "metadata": {},
   "outputs": [
    {
     "name": "stdout",
     "output_type": "stream",
     "text": [
      "  |  | \n",
      "---|---|---\n",
      "  |  | \n",
      "---|---|---\n",
      "  |  | \n"
     ]
    }
   ],
   "source": [
    "from IPython.display import clear_output\n",
    "\n",
    "def display_board(board):\n",
    "    clear_output()\n",
    "    \n",
    "    print(' ' + board[7] + ' | ' + board[8] + ' | ' + board[9])\n",
    "    print('---|---|---')\n",
    "    print(' ' + board[4] + ' | ' + board[5] + ' | ' + board[6])\n",
    "    print('---|---|---')\n",
    "    print(' ' + board[1] + ' | ' + board[2] + ' | ' + board[3])                      \n",
    "    \n",
    "board = [''] * 10\n",
    "display_board(board)\n"
   ]
  },
  {
   "cell_type": "code",
   "execution_count": 38,
   "metadata": {
    "collapsed": true
   },
   "outputs": [
    {
     "name": "stdout",
     "output_type": "stream",
     "text": [
      " X | O | X\n",
      "---|---|---\n",
      " O | X | O\n",
      "---|---|---\n",
      " X | O | X\n"
     ]
    }
   ],
   "source": [
    "test_board = ['#','X','O','X','O','X','O','X','O','X']\n",
    "display_board(test_board)"
   ]
  },
  {
   "cell_type": "code",
   "execution_count": 39,
   "metadata": {
    "collapsed": true
   },
   "outputs": [],
   "source": [
    "def player_input():\n",
    "    \n",
    "    marker = ''\n",
    "\n",
    "    while marker != 'X' and  marker != 'O':\n",
    "\n",
    "        marker = input('Pick a marker for player 1 (X/O) :').upper()\n",
    "\n",
    "    if marker not in ['X','O']:\n",
    "        print('INVALID CHOICE!')\n",
    "\n",
    "    player1 = marker\n",
    "    \n",
    "    if player1 =='X':\n",
    "        return ('X','O')\n",
    "    else:\n",
    "        return ('O','X')\n",
    "    \n"
   ]
  },
  {
   "cell_type": "code",
   "execution_count": 40,
   "metadata": {
    "collapsed": true
   },
   "outputs": [],
   "source": [
    "#player_input()"
   ]
  },
  {
   "cell_type": "code",
   "execution_count": 41,
   "metadata": {
    "collapsed": true
   },
   "outputs": [],
   "source": [
    "def place_marker(board, marker, position):\n",
    "    \n",
    "    board[position] = marker\n",
    "\n",
    "\n",
    "\n",
    "\n",
    "    \n",
    "\n"
   ]
  },
  {
   "cell_type": "code",
   "execution_count": 42,
   "metadata": {
    "collapsed": true
   },
   "outputs": [
    {
     "name": "stdout",
     "output_type": "stream",
     "text": [
      " X | O | X\n",
      "---|---|---\n",
      " $ | X | O\n",
      "---|---|---\n",
      " X | O | X\n"
     ]
    }
   ],
   "source": [
    "place_marker(test_board,'$',4)\n",
    "display_board(test_board)"
   ]
  },
  {
   "cell_type": "code",
   "execution_count": 43,
   "metadata": {
    "collapsed": true
   },
   "outputs": [],
   "source": [
    "def win_check(board, mark):\n",
    "    \n",
    "    \n",
    "    #   return (board[1]==board[2]==board[3]==mark) or \\\n",
    "    #  (board[4]==board[5]==board[6]==mark) or \\\n",
    "    #  (board[7]==board[8]==board[9]==mark) or \\\n",
    "    #  (board[1]==board[4]==board[7]==mark) or \\\n",
    "    #  (board[2]==board[5]==board[8]==mark) or \\\n",
    "    #  (board[3]==board[6]==board[9]==mark) or \\\n",
    "    #  (board[1]==board[5]==board[9]==mark) or \\\n",
    "    #  (board[3]==board[5]==board[7]==mark)\n",
    "\n",
    "\n",
    "    winning_combos = [ \n",
    "       [1,2,3],[4,5,6],[7,8,9],\n",
    "       [1,4,7],[2,5,8],[3,6,9],\n",
    "       [1,5,9],[3,5,7] \n",
    "    ]\n",
    "\n",
    "    for combo in winning_combos:\n",
    "     \n",
    "       if all(board[pos] == mark for pos in combo):\n",
    "          return True\n",
    "    return False\n",
    "    \n",
    "\n",
    "\n",
    "    "
   ]
  },
  {
   "cell_type": "code",
   "execution_count": 44,
   "metadata": {
    "collapsed": true
   },
   "outputs": [
    {
     "data": {
      "text/plain": [
       "True"
      ]
     },
     "execution_count": 44,
     "metadata": {},
     "output_type": "execute_result"
    }
   ],
   "source": [
    "win_check(test_board,'X')"
   ]
  },
  {
   "cell_type": "code",
   "execution_count": 45,
   "metadata": {
    "collapsed": true
   },
   "outputs": [],
   "source": [
    "import random\n",
    "\n",
    "def choose_first():\n",
    "    \n",
    "    flip =  random.randint(0,1)\n",
    "\n",
    "    if flip == 0:\n",
    "        return 'player1'\n",
    "    else:\n",
    "        return 'player2'"
   ]
  },
  {
   "cell_type": "code",
   "execution_count": 46,
   "metadata": {
    "collapsed": true
   },
   "outputs": [],
   "source": [
    "def space_check(board, position):\n",
    "    \n",
    "    return board[position] == ' '\n",
    "     \n"
   ]
  },
  {
   "cell_type": "code",
   "execution_count": 47,
   "metadata": {
    "collapsed": true
   },
   "outputs": [],
   "source": [
    "def full_board_check(board):\n",
    "    \n",
    "    for i in range(1,9):\n",
    "        if space_check(board,i):\n",
    "            return False \n",
    "    return True "
   ]
  },
  {
   "cell_type": "code",
   "execution_count": 48,
   "metadata": {
    "collapsed": true
   },
   "outputs": [],
   "source": [
    "def player_choice(board):\n",
    "    \n",
    "    position = 0\n",
    "\n",
    "    while position not in range(1,10) or not space_check(board, position):\n",
    "        position = int(input('Choose a position(1-9) '))\n",
    "\n",
    "        if not space_check(board, position):\n",
    "            print('Index ALready Filled!')\n",
    "    \n",
    "    return position\n",
    "    "
   ]
  },
  {
   "cell_type": "code",
   "execution_count": 49,
   "metadata": {
    "collapsed": true
   },
   "outputs": [],
   "source": [
    "def replay():\n",
    "    return input('Play again? (Y/N): ').upper().startswith('Y')"
   ]
  },
  {
   "cell_type": "code",
   "execution_count": 50,
   "metadata": {
    "collapsed": true
   },
   "outputs": [
    {
     "name": "stdout",
     "output_type": "stream",
     "text": [
      "   | X |  \n",
      "---|---|---\n",
      " X | O |  \n",
      "---|---|---\n",
      " O | O | X\n"
     ]
    },
    {
     "ename": "ValueError",
     "evalue": "invalid literal for int() with base 10: ''",
     "output_type": "error",
     "traceback": [
      "\u001b[1;31m---------------------------------------------------------------------------\u001b[0m",
      "\u001b[1;31mValueError\u001b[0m                                Traceback (most recent call last)",
      "Cell \u001b[1;32mIn[50], line 48\u001b[0m\n\u001b[0;32m     42\u001b[0m \u001b[39m# Player2's turn.\u001b[39;00m\n\u001b[0;32m     43\u001b[0m \u001b[39melse\u001b[39;00m:\n\u001b[0;32m     46\u001b[0m     display_board(theboard)\n\u001b[1;32m---> 48\u001b[0m     position \u001b[39m=\u001b[39m player_choice(theboard)\n\u001b[0;32m     50\u001b[0m     place_marker(theboard,player2_marker,position)\n\u001b[0;32m     52\u001b[0m     \u001b[39mif\u001b[39;00m win_check(theboard,player2_marker):\n",
      "Cell \u001b[1;32mIn[48], line 6\u001b[0m, in \u001b[0;36mplayer_choice\u001b[1;34m(board)\u001b[0m\n\u001b[0;32m      3\u001b[0m position \u001b[39m=\u001b[39m \u001b[39m0\u001b[39m\n\u001b[0;32m      5\u001b[0m \u001b[39mwhile\u001b[39;00m position \u001b[39mnot\u001b[39;00m \u001b[39min\u001b[39;00m \u001b[39mrange\u001b[39m(\u001b[39m1\u001b[39m,\u001b[39m10\u001b[39m) \u001b[39mor\u001b[39;00m \u001b[39mnot\u001b[39;00m space_check(board, position):\n\u001b[1;32m----> 6\u001b[0m     position \u001b[39m=\u001b[39m \u001b[39mint\u001b[39;49m(\u001b[39minput\u001b[39;49m(\u001b[39m'\u001b[39;49m\u001b[39mChoose a position(1-9) \u001b[39;49m\u001b[39m'\u001b[39;49m))\n\u001b[0;32m      8\u001b[0m     \u001b[39mif\u001b[39;00m \u001b[39mnot\u001b[39;00m space_check(board, position):\n\u001b[0;32m      9\u001b[0m         \u001b[39mprint\u001b[39m(\u001b[39m'\u001b[39m\u001b[39mIndex ALready Filled!\u001b[39m\u001b[39m'\u001b[39m)\n",
      "\u001b[1;31mValueError\u001b[0m: invalid literal for int() with base 10: ''"
     ]
    }
   ],
   "source": [
    "print('Welcome to Tic Tac Toe!')\n",
    "\n",
    "while True:\n",
    "    #Set the game up here\n",
    "    theboard = [' ']*10\n",
    "    player1_marker , player2_marker = player_input()\n",
    "\n",
    "    turn = choose_first()\n",
    "    print(turn +'will go first')\n",
    "\n",
    "    play_game= input('Ready to play? (Y/N)').upper()\n",
    "\n",
    "    if play_game.upper() == 'Y':\n",
    "        game_on = True\n",
    "    else:\n",
    "        game_on = False\n",
    "\n",
    "    #pass\n",
    "\n",
    "    while game_on:\n",
    "        #Player 1 Turn\n",
    "        if turn == 'Player 1':\n",
    "    \n",
    "            display_board(theboard)\n",
    "\n",
    "            position = player_choice(theboard)\n",
    "\n",
    "            place_marker(theboard,player1_marker,position)\n",
    "\n",
    "            if win_check(theboard,player1_marker):\n",
    "                display_board(theboard)\n",
    "                print('Player 1 has WON!!')\n",
    "                game_on = False\n",
    "            else:\n",
    "                if full_board_check(theboard):\n",
    "                    display_board(theboard)\n",
    "                    print('GAME TIED!')\n",
    "                    break\n",
    "                else:\n",
    "                    turn = 'Player 2'\n",
    "\n",
    "        # Player2's turn.\n",
    "        else:\n",
    "            \n",
    "    \n",
    "            display_board(theboard)\n",
    "\n",
    "            position = player_choice(theboard)\n",
    "\n",
    "            place_marker(theboard,player2_marker,position)\n",
    "\n",
    "            if win_check(theboard,player2_marker):\n",
    "                display_board(theboard)\n",
    "                print('Player 2 has WON!!')\n",
    "                game_on = False\n",
    "            else:\n",
    "                if full_board_check(theboard):\n",
    "                    display_board(theboard)\n",
    "                    print('GAME TIED!')\n",
    "                    break\n",
    "                else:\n",
    "                    turn = 'Player 1'  \n",
    "            #pass\n",
    "\n",
    "    if not replay():\n",
    "        break"
   ]
  },
  {
   "cell_type": "markdown",
   "metadata": {
    "collapsed": true
   },
   "source": [
    "## Good Job!"
   ]
  }
 ],
 "metadata": {
  "kernelspec": {
   "display_name": "Python 3",
   "language": "python",
   "name": "python3"
  },
  "language_info": {
   "codemirror_mode": {
    "name": "ipython",
    "version": 3
   },
   "file_extension": ".py",
   "mimetype": "text/x-python",
   "name": "python",
   "nbconvert_exporter": "python",
   "pygments_lexer": "ipython3",
   "version": "3.11.4"
  }
 },
 "nbformat": 4,
 "nbformat_minor": 1
}
